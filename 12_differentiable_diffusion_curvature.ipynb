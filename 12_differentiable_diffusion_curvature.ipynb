{
 "cells": [
  {
   "cell_type": "markdown",
   "metadata": {},
   "source": [
    "# Differentiable Diffusion Curvature \n",
    "A fast adaptation of diffusion curvature running entirely on pytorch. Additionally allows for GPU acceleration when using large matrices."
   ]
  },
  {
   "cell_type": "code",
   "execution_count": 1,
   "metadata": {},
   "outputs": [],
   "source": [
    "# default_exp differentiable_laziness\n",
    "# from nbdev.showdoc import *\n",
    "import numpy as np\n",
    "%load_ext autoreload\n",
    "%autoreload 2"
   ]
  },
  {
   "cell_type": "code",
   "execution_count": 2,
   "metadata": {},
   "outputs": [],
   "source": [
    "#export\n",
    "import torch\n",
    "from torch import sparse\n",
    "def curvature(P, diffusion_powers = 8, aperture = 20, smoothing = 1, avg_transition_probabilities = True, precomputed_powered_P = None):\n",
    "  \"\"\"Same as the `curvature` function, but uses pytorch as backend instead of numpy. \n",
    "  Works on both tensors and COO sparse tensors.\n",
    "  \"\"\"\n",
    "  sample_number = 100\n",
    "  row_partitions = torch.empty(sample_number)\n",
    "  for idx, i in enumerate(torch.randint(P.shape[0]), size = (sample_number,)):\n",
    "    row_partitions[idx] = torch.topk(P[i].dense(), aperture, largest=True, sorted = True)[0]\n",
    "  P_threshold = torch.mean(row_partitions)\n",
    "  # Compute powers of P\n",
    "  if precomputed_powered_P is not None:\n",
    "    P_powered = precomputed_powered_P\n",
    "  else:\n",
    "    P_powered = torch.linalg.matrix_power(P, diffusion_powers)\n",
    "  near_neighbors_only = P_powered * P_threshold\n",
    "  if near_neighbors_only.is_sparse:\n",
    "    laziness_aggregate = sparse.sum(near_neighbors_only,dim=[1]).to_dense()\n",
    "  else:\n",
    "    laziness_aggregate = torch.sum(near_neighbors_only, dim=1)\n",
    "  laziness = laziness_aggregate\n",
    "  if smoothing:\n",
    "    average_laziness = P @ laziness[:,None]\n",
    "    average_laziness = average_laziness.squeeze()\n",
    "    laziness = average_laziness\n",
    "  return laziness\n",
    "\n"
   ]
  },
  {
   "cell_type": "markdown",
   "metadata": {},
   "source": [
    "Testing:"
   ]
  },
  {
   "cell_type": "code",
   "execution_count": null,
   "metadata": {},
   "outputs": [
    {
     "ename": "",
     "evalue": "",
     "output_type": "error",
     "traceback": [
      "\u001b[1;31mFailed to start the Kernel. \n",
      "Kernel deeps (Python 3.8.12) is not usable. Check the Jupyter output tab for more information. \n",
      "View Jupyter <a href='command:jupyter.viewOutput'>log</a> for further details."
     ]
    }
   ],
   "source": [
    "from diffusion_curvature.core import DiffusionMatrix"
   ]
  },
  {
   "cell_type": "code",
   "execution_count": null,
   "metadata": {},
   "outputs": [],
   "source": [
    "from diffusion_curvature.datasets import torus\n",
    "from diffusion_curvature.core import DiffusionMatrix, plot_3d\n",
    "X, ks = torus(n=5000)\n",
    "P = DiffusionMatrix(X,kernel_type=\"adaptive\",k=20)"
   ]
  },
  {
   "cell_type": "code",
   "execution_count": null,
   "metadata": {},
   "outputs": [],
   "source": [
    "# turn P into a sparse tensor\n",
    "P = torch.tensor(P).to_sparse()"
   ]
  },
  {
   "cell_type": "code",
   "execution_count": null,
   "metadata": {},
   "outputs": [],
   "source": [
    "# calculate laziness\n",
    "ks = curvature(P, diffusion_powers=8, aperture=20)\n",
    "plot_3d()"
   ]
  }
 ],
 "metadata": {
  "kernelspec": {
   "display_name": "Python 3.10.2 ('graphcurvature')",
   "language": "python",
   "name": "python3"
  },
  "language_info": {
   "codemirror_mode": {
    "name": "ipython",
    "version": 3
   },
   "file_extension": ".py",
   "mimetype": "text/x-python",
   "name": "python",
   "nbconvert_exporter": "python",
   "pygments_lexer": "ipython3",
   "version": "3.10.2"
  },
  "orig_nbformat": 4,
  "vscode": {
   "interpreter": {
    "hash": "5e2687605c29ea9b7b195ac3defcd71e9022ba9079282ec58b01bd34752434b0"
   }
  }
 },
 "nbformat": 4,
 "nbformat_minor": 2
}
