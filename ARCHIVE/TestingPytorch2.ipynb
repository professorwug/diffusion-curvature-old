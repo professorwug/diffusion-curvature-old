{
 "cells": [
  {
   "cell_type": "code",
   "execution_count": 1,
   "metadata": {},
   "outputs": [
    {
     "name": "stderr",
     "output_type": "stream",
     "text": [
      "/Users/adjourner/miniforge3/envs/borea/lib/python3.11/site-packages/torch/_dynamo/eval_frame.py:414: UserWarning: Python 3.11+ not yet supported, torch.compile() will do nothing\n",
      "  warnings.warn(\"Python 3.11+ not yet supported, torch.compile() will do nothing\")\n",
      "/var/folders/y5/4qfj8yjj1hb97n6q01_dg0km0000gn/T/ipykernel_58601/2868208366.py:7: UserWarning: Failed to initialize NumPy: No module named 'numpy' (Triggered internally at /Users/runner/work/pytorch/pytorch/pytorch/torch/csrc/utils/tensor_numpy.cpp:84.)\n",
      "  input_tensor = torch.randn(10000).to(device=\"cuda:0\")\n"
     ]
    },
    {
     "ename": "AssertionError",
     "evalue": "Torch not compiled with CUDA enabled",
     "output_type": "error",
     "traceback": [
      "\u001B[0;31m---------------------------------------------------------------------------\u001B[0m",
      "\u001B[0;31mAssertionError\u001B[0m                            Traceback (most recent call last)",
      "Cell \u001B[0;32mIn[1], line 7\u001B[0m\n\u001B[1;32m      5\u001B[0m     \u001B[39mreturn\u001B[39;00m a \u001B[39m+\u001B[39m b\n\u001B[1;32m      6\u001B[0m new_fn \u001B[39m=\u001B[39m torch\u001B[39m.\u001B[39mcompile(fn, backend\u001B[39m=\u001B[39m\u001B[39m\"\u001B[39m\u001B[39minductor\u001B[39m\u001B[39m\"\u001B[39m)\n\u001B[0;32m----> 7\u001B[0m input_tensor \u001B[39m=\u001B[39m torch\u001B[39m.\u001B[39;49mrandn(\u001B[39m10000\u001B[39;49m)\u001B[39m.\u001B[39;49mto(device\u001B[39m=\u001B[39;49m\u001B[39m\"\u001B[39;49m\u001B[39mcuda:0\u001B[39;49m\u001B[39m\"\u001B[39;49m)\n\u001B[1;32m      8\u001B[0m a \u001B[39m=\u001B[39m new_fn(input_tensor, input_tensor)\n",
      "File \u001B[0;32m~/miniforge3/envs/borea/lib/python3.11/site-packages/torch/cuda/__init__.py:239\u001B[0m, in \u001B[0;36m_lazy_init\u001B[0;34m()\u001B[0m\n\u001B[1;32m    235\u001B[0m     \u001B[39mraise\u001B[39;00m \u001B[39mRuntimeError\u001B[39;00m(\n\u001B[1;32m    236\u001B[0m         \u001B[39m\"\u001B[39m\u001B[39mCannot re-initialize CUDA in forked subprocess. To use CUDA with \u001B[39m\u001B[39m\"\u001B[39m\n\u001B[1;32m    237\u001B[0m         \u001B[39m\"\u001B[39m\u001B[39mmultiprocessing, you must use the \u001B[39m\u001B[39m'\u001B[39m\u001B[39mspawn\u001B[39m\u001B[39m'\u001B[39m\u001B[39m start method\u001B[39m\u001B[39m\"\u001B[39m)\n\u001B[1;32m    238\u001B[0m \u001B[39mif\u001B[39;00m \u001B[39mnot\u001B[39;00m \u001B[39mhasattr\u001B[39m(torch\u001B[39m.\u001B[39m_C, \u001B[39m'\u001B[39m\u001B[39m_cuda_getDeviceCount\u001B[39m\u001B[39m'\u001B[39m):\n\u001B[0;32m--> 239\u001B[0m     \u001B[39mraise\u001B[39;00m \u001B[39mAssertionError\u001B[39;00m(\u001B[39m\"\u001B[39m\u001B[39mTorch not compiled with CUDA enabled\u001B[39m\u001B[39m\"\u001B[39m)\n\u001B[1;32m    240\u001B[0m \u001B[39mif\u001B[39;00m _cudart \u001B[39mis\u001B[39;00m \u001B[39mNone\u001B[39;00m:\n\u001B[1;32m    241\u001B[0m     \u001B[39mraise\u001B[39;00m \u001B[39mAssertionError\u001B[39;00m(\n\u001B[1;32m    242\u001B[0m         \u001B[39m\"\u001B[39m\u001B[39mlibcudart functions unavailable. It looks like you have a broken build?\u001B[39m\u001B[39m\"\u001B[39m)\n",
      "\u001B[0;31mAssertionError\u001B[0m: Torch not compiled with CUDA enabled"
     ]
    }
   ],
   "source": [
    "import torch\n",
    "def fn(x, y):\n",
    "    a = torch.sin(x).cuda()\n",
    "    b = torch.sin(y).cuda()\n",
    "    return a + b\n",
    "new_fn = torch.compile(fn, backend=\"inductor\")\n",
    "input_tensor = torch.randn(10000).to(device=\"cuda:0\")\n",
    "a = new_fn(input_tensor, input_tensor)"
   ]
  },
  {
   "cell_type": "code",
   "execution_count": null,
   "metadata": {},
   "outputs": [],
   "source": []
  }
 ],
 "metadata": {
  "kernelspec": {
   "display_name": "borea",
   "language": "python",
   "name": "python3"
  },
  "language_info": {
   "codemirror_mode": {
    "name": "ipython",
    "version": 3
   },
   "file_extension": ".py",
   "mimetype": "text/x-python",
   "name": "python",
   "nbconvert_exporter": "python",
   "pygments_lexer": "ipython3",
   "version": "3.11.0"
  },
  "orig_nbformat": 4,
  "vscode": {
   "interpreter": {
    "hash": "eff8bf90f571168735996a240baed1d1fc3b56a4711803127afe435b96fc8af0"
   }
  }
 },
 "nbformat": 4,
 "nbformat_minor": 2
}
