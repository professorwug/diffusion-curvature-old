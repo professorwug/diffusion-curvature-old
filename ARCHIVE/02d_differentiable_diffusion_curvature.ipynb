{
 "cells": [
  {
   "cell_type": "raw",
   "metadata": {},
   "source": [
    "---\n",
    "output-file: differentiable_diffusion_curvature.html\n",
    "title: Differentiable Diffusion Curvature\n",
    "\n",
    "---\n",
    "\n"
   ]
  },
  {
   "cell_type": "code",
   "execution_count": 4,
   "metadata": {},
   "outputs": [
    {
     "name": "stdout",
     "output_type": "stream",
     "text": [
      "The autoreload extension is already loaded. To reload it, use:\n",
      "  %reload_ext autoreload\n"
     ]
    }
   ],
   "source": [
    "#| default_exp differentiable_laziness\n",
    "# from nbdev.showdoc import *\n",
    "import numpy as np\n",
    "%load_ext autoreload\n",
    "%autoreload 2"
   ]
  },
  {
   "cell_type": "code",
   "execution_count": 5,
   "metadata": {},
   "outputs": [],
   "source": [
    "#| export\n",
    "import torch\n",
    "from torch import sparse\n",
    "def curvature(P, diffusion_powers = 8, aperture = 20, smoothing = 1, avg_transition_probabilities = True, precomputed_powered_P = None):\n",
    "  \"\"\"Same as the `curvature` function, but uses pytorch as backend instead of numpy. \n",
    "  Works on both tensors and COO sparse tensors.\n",
    "  \"\"\"\n",
    "  sample_number = 100\n",
    "  row_partitions = torch.empty(sample_number)\n",
    "  for idx, i in enumerate(torch.randint(P.shape[0], size = (sample_number,))):\n",
    "    row_partitions[idx] = torch.topk(P[i].dense(), aperture, largest=True, sorted = True)[0]\n",
    "  P_threshold = torch.mean(row_partitions)\n",
    "  # Compute powers of P\n",
    "  if precomputed_powered_P is not None:\n",
    "    P_powered = precomputed_powered_P\n",
    "  else:\n",
    "    P_powered = torch.linalg.matrix_power(P, diffusion_powers)\n",
    "  near_neighbors_only = P_powered * P_threshold\n",
    "  if near_neighbors_only.is_sparse:\n",
    "    laziness_aggregate = sparse.sum(near_neighbors_only,dim=[1]).to_dense()\n",
    "  else:\n",
    "    laziness_aggregate = torch.sum(near_neighbors_only, dim=1)\n",
    "  laziness = laziness_aggregate\n",
    "  if smoothing:\n",
    "    average_laziness = P @ laziness[:,None]\n",
    "    average_laziness = average_laziness.squeeze()\n",
    "    laziness = average_laziness\n",
    "  return laziness\n"
   ]
  },
  {
   "cell_type": "markdown",
   "metadata": {},
   "source": [
    "Testing:"
   ]
  },
  {
   "cell_type": "code",
   "execution_count": 6,
   "metadata": {},
   "outputs": [],
   "source": [
    "from diffusion_curvature.core import diffusion_matrix"
   ]
  },
  {
   "cell_type": "code",
   "execution_count": 7,
   "metadata": {},
   "outputs": [],
   "source": [
    "from diffusion_curvature.datasets import torus\n",
    "from diffusion_curvature.core import diffusion_matrix, plot_3d\n",
    "X, ks = torus(n=5000)\n",
    "P = diffusion_matrix(X,kernel_type=\"adaptive\",k=20)"
   ]
  },
  {
   "cell_type": "code",
   "execution_count": 8,
   "metadata": {},
   "outputs": [],
   "source": [
    "# turn P into a sparse tensor\n",
    "P = torch.tensor(P).to_sparse()"
   ]
  },
  {
   "cell_type": "code",
   "execution_count": 9,
   "metadata": {},
   "outputs": [
    {
     "ename": "AttributeError",
     "evalue": "'Tensor' object has no attribute 'dense'",
     "output_type": "error",
     "traceback": [
      "\u001B[0;31m---------------------------------------------------------------------------\u001B[0m",
      "\u001B[0;31mAttributeError\u001B[0m                            Traceback (most recent call last)",
      "Cell \u001B[0;32mIn [9], line 2\u001B[0m\n\u001B[1;32m      1\u001B[0m \u001B[39m# calculate laziness\u001B[39;00m\n\u001B[0;32m----> 2\u001B[0m ks \u001B[39m=\u001B[39m curvature(P, diffusion_powers\u001B[39m=\u001B[39;49m\u001B[39m8\u001B[39;49m, aperture\u001B[39m=\u001B[39;49m\u001B[39m20\u001B[39;49m)\n\u001B[1;32m      3\u001B[0m plot_3d()\n",
      "Cell \u001B[0;32mIn [5], line 11\u001B[0m, in \u001B[0;36mcurvature\u001B[0;34m(P, diffusion_powers, aperture, smoothing, avg_transition_probabilities, precomputed_powered_P)\u001B[0m\n\u001B[1;32m      9\u001B[0m row_partitions \u001B[39m=\u001B[39m torch\u001B[39m.\u001B[39mempty(sample_number)\n\u001B[1;32m     10\u001B[0m \u001B[39mfor\u001B[39;00m idx, i \u001B[39min\u001B[39;00m \u001B[39menumerate\u001B[39m(torch\u001B[39m.\u001B[39mrandint(P\u001B[39m.\u001B[39mshape[\u001B[39m0\u001B[39m], size \u001B[39m=\u001B[39m (sample_number,))):\n\u001B[0;32m---> 11\u001B[0m   row_partitions[idx] \u001B[39m=\u001B[39m torch\u001B[39m.\u001B[39mtopk(P[i]\u001B[39m.\u001B[39;49mdense(), aperture, largest\u001B[39m=\u001B[39m\u001B[39mTrue\u001B[39;00m, \u001B[39msorted\u001B[39m \u001B[39m=\u001B[39m \u001B[39mTrue\u001B[39;00m)[\u001B[39m0\u001B[39m]\n\u001B[1;32m     12\u001B[0m P_threshold \u001B[39m=\u001B[39m torch\u001B[39m.\u001B[39mmean(row_partitions)\n\u001B[1;32m     13\u001B[0m \u001B[39m# Compute powers of P\u001B[39;00m\n",
      "\u001B[0;31mAttributeError\u001B[0m: 'Tensor' object has no attribute 'dense'"
     ]
    }
   ],
   "source": [
    "# calculate laziness\n",
    "ks = curvature(P, diffusion_powers=8, aperture=20)\n",
    "# plot_3d()"
   ]
  }
 ],
 "metadata": {
  "kernelspec": {
   "display_name": "diffusion_curvature",
   "language": "python",
   "name": "python3"
  },
  "language_info": {
   "codemirror_mode": {
    "name": "ipython",
    "version": 3
   },
   "file_extension": ".py",
   "mimetype": "text/x-python",
   "name": "python",
   "nbconvert_exporter": "python",
   "pygments_lexer": "ipython3",
   "version": "3.10.8"
  },
  "orig_nbformat": 4,
  "vscode": {
   "interpreter": {
    "hash": "119a79fb48afe3fec2b5625f3bba0e7fb6b4c96360bc5d06a803005bd7293220"
   }
  }
 },
 "nbformat": 4,
 "nbformat_minor": 2
}
