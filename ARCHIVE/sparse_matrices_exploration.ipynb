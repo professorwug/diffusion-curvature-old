{
 "cells": [
  {
   "cell_type": "raw",
   "metadata": {},
   "source": [
    "---\n",
    "output-file: sparse_matrices_exploration.html\n",
    "title: Landmark-based laziness\n",
    "\n",
    "---\n",
    "\n"
   ]
  },
  {
   "cell_type": "code",
   "execution_count": null,
   "metadata": {},
   "outputs": [],
   "source": [
    "from scipy.sparse import bsr_array\n",
    "import numpy as np\n",
    "X = np.loadtxt('datasets/ipsc.txt')"
   ]
  },
  {
   "cell_type": "code",
   "execution_count": null,
   "metadata": {},
   "outputs": [],
   "source": [
    "X_sparse = bsr_array(X)"
   ]
  },
  {
   "cell_type": "markdown",
   "metadata": {},
   "source": [
    "The thing is: going to a sparse matrix doesn't actually help us *at all* with the data, because we don't expect the data to have tons of zeros. But it's worth a try, I suppose."
   ]
  },
  {
   "cell_type": "code",
   "execution_count": null,
   "metadata": {},
   "outputs": [],
   "source": []
  },
  {
   "cell_type": "markdown",
   "metadata": {},
   "source": [
    "How do we multiply sparse matrices to a given power? We can do `@` for single powers, which works fairly well, and we can loop this following the log to achieve a matrix power to a given `t`.\n",
    "But because the number of non-zero entries multiplies with matrix multiplication, we have to do the multiplications in the *landmarked* realm."
   ]
  },
  {
   "cell_type": "code",
   "execution_count": null,
   "metadata": {},
   "outputs": [],
   "source": [
    "import graphtools\n",
    "G = graphtools.Graph(X, n_landmark=500)"
   ]
  },
  {
   "cell_type": "markdown",
   "metadata": {},
   "source": [
    "Interestingly, graphtools makes full use of all of the CPU cores. That's good programming."
   ]
  },
  {
   "cell_type": "code",
   "execution_count": null,
   "metadata": {},
   "outputs": [],
   "source": [
    "sP = G.P # our sparse matrix\n",
    "P_landmarks = G.landmark_op"
   ]
  },
  {
   "cell_type": "code",
   "execution_count": null,
   "metadata": {},
   "outputs": [],
   "source": [
    "# saving these for future usage\n",
    "import pickle\n",
    "with open('datasets/ipsc_sP.pickle','wb') as f:\n",
    "  pickle.dump(sP,f)\n",
    "with open('datasets/ipsc_P_landmarks.pickle','wb') as f:\n",
    "  pickle.dump(P_landmarks,f)"
   ]
  },
  {
   "cell_type": "code",
   "execution_count": null,
   "metadata": {},
   "outputs": [],
   "source": [
    "G.transitions # is this a sparse matrix?\n",
    "trans = bsr_array(G.transitions)\n",
    "full_transitions = G.transitions\n",
    "P_l_bsr = bsr_array(P_landmarks)"
   ]
  },
  {
   "cell_type": "code",
   "execution_count": null,
   "metadata": {},
   "outputs": [
    {
     "data": {
      "text/plain": [
       "<500x500 sparse matrix of type '<class 'numpy.float64'>'\n",
       "\twith 81612 stored elements (blocksize = 1x1) in Block Sparse Row format>"
      ]
     },
     "execution_count": null,
     "metadata": {},
     "output_type": "execute_result"
    }
   ],
   "source": [
    "P_l_bsr"
   ]
  },
  {
   "cell_type": "code",
   "execution_count": null,
   "metadata": {},
   "outputs": [],
   "source": [
    "with open('datasets/ipsc_transitions.pickle','wb') as f:\n",
    "  pickle.dump(trans,f)"
   ]
  },
  {
   "cell_type": "code",
   "execution_count": null,
   "metadata": {},
   "outputs": [
    {
     "data": {
      "text/plain": [
       "<220450x500 sparse matrix of type '<class 'numpy.float64'>'\n",
       "\twith 110225000 stored elements (blocksize = 2x2) in Block Sparse Row format>"
      ]
     },
     "execution_count": null,
     "metadata": {},
     "output_type": "execute_result"
    }
   ],
   "source": [
    "trans"
   ]
  },
  {
   "cell_type": "code",
   "execution_count": null,
   "metadata": {},
   "outputs": [
    {
     "name": "stderr",
     "output_type": "stream",
     "text": [
      "/Users/adjourner/miniforge3/envs/graphcurvature/lib/python3.10/site-packages/scipy/sparse/_compressed.py:291: SparseEfficiencyWarning: Comparing a sparse matrix with a scalar greater than zero using < is inefficient, try using >= instead.\n",
      "  warn(bad_scalar_msg, SparseEfficiencyWarning)\n",
      "/Users/adjourner/miniforge3/envs/graphcurvature/lib/python3.10/site-packages/scipy/sparse/_index.py:146: SparseEfficiencyWarning: Changing the sparsity structure of a csr_matrix is expensive. lil_matrix is more efficient.\n",
      "  self._set_arrayXarray(i, j, x)\n"
     ]
    }
   ],
   "source": [
    "tolerance = 0.0001\n",
    "full_transitions[full_transitions < tolerance] = 0"
   ]
  },
  {
   "cell_type": "code",
   "execution_count": null,
   "metadata": {},
   "outputs": [
    {
     "data": {
      "text/plain": [
       "<220450x500 sparse matrix of type '<class 'numpy.float64'>'\n",
       "\twith 110225000 stored elements in Compressed Sparse Row format>"
      ]
     },
     "execution_count": null,
     "metadata": {},
     "output_type": "execute_result"
    }
   ],
   "source": [
    "full_transitions"
   ]
  },
  {
   "cell_type": "code",
   "execution_count": null,
   "metadata": {},
   "outputs": [
    {
     "data": {
      "text/plain": [
       "<220450x500 sparse matrix of type '<class 'numpy.float64'>'\n",
       "\twith 110225000 stored elements (blocksize = 2x2) in Block Sparse Row format>"
      ]
     },
     "execution_count": null,
     "metadata": {},
     "output_type": "execute_result"
    }
   ],
   "source": [
    "trans = bsr_array(full_transitions)\n",
    "trans"
   ]
  },
  {
   "cell_type": "markdown",
   "metadata": {},
   "source": [
    "Just to see how fast this matrix multiplication is:"
   ]
  },
  {
   "cell_type": "markdown",
   "metadata": {},
   "source": [
    "(Unlike G.P, which has a lot of zeros, the transition matrix has values almost everywhere.)"
   ]
  },
  {
   "cell_type": "code",
   "execution_count": null,
   "metadata": {},
   "outputs": [
    {
     "data": {
      "text/plain": [
       "array([[0.00000000e+00, 0.00000000e+00, 0.00000000e+00, ...,\n",
       "        0.00000000e+00, 0.00000000e+00, 3.61419128e-05],\n",
       "       [0.00000000e+00, 0.00000000e+00, 0.00000000e+00, ...,\n",
       "        0.00000000e+00, 0.00000000e+00, 3.61432691e-05],\n",
       "       [0.00000000e+00, 0.00000000e+00, 0.00000000e+00, ...,\n",
       "        0.00000000e+00, 0.00000000e+00, 3.61432691e-05],\n",
       "       ...,\n",
       "       [0.00000000e+00, 1.58368284e-06, 1.01428970e-05, ...,\n",
       "        1.81705757e-04, 1.38433002e-05, 1.99467440e-08],\n",
       "       [0.00000000e+00, 9.30869523e-05, 0.00000000e+00, ...,\n",
       "        1.26967055e-08, 8.85121684e-06, 0.00000000e+00],\n",
       "       [0.00000000e+00, 0.00000000e+00, 0.00000000e+00, ...,\n",
       "        2.67227408e-06, 0.00000000e+00, 0.00000000e+00]])"
      ]
     },
     "execution_count": null,
     "metadata": {},
     "output_type": "execute_result"
    }
   ],
   "source": [
    "trans @ P_landmarks"
   ]
  },
  {
   "cell_type": "code",
   "execution_count": null,
   "metadata": {},
   "outputs": [],
   "source": [
    "#| export core\n",
    "def matpower(A,t):\n",
    "  At = A\n",
    "  two_powers = int(np.floor(np.log2(t)))\n",
    "  remainder = t - 2**two_powers\n",
    "  for i in range(two_powers):\n",
    "    At = At @ At\n",
    "  for j in range(remainder):\n",
    "    At = At @ A\n",
    "  return At"
   ]
  },
  {
   "cell_type": "code",
   "execution_count": null,
   "metadata": {},
   "outputs": [
    {
     "data": {
      "text/plain": [
       "<500x500 sparse matrix of type '<class 'numpy.float64'>'\n",
       "\twith 250000 stored elements (blocksize = 1x1) in Block Sparse Row format>"
      ]
     },
     "execution_count": null,
     "metadata": {},
     "output_type": "execute_result"
    }
   ],
   "source": [
    "matpower(P_l_bsr,3)"
   ]
  },
  {
   "cell_type": "code",
   "execution_count": null,
   "metadata": {},
   "outputs": [],
   "source": [
    "A2_landmark_part_1 = trans @ matpower(P_landmarks,2)\n",
    "A2_landmark_part_1\n",
    "A2_landmark = A2_landmark_part_1 @ trans.T"
   ]
  },
  {
   "cell_type": "code",
   "execution_count": null,
   "metadata": {},
   "outputs": [],
   "source": [
    "A2_real = sP @ sP"
   ]
  },
  {
   "cell_type": "code",
   "execution_count": null,
   "metadata": {},
   "outputs": [
    {
     "ename": "NameError",
     "evalue": "name 'sP' is not defined",
     "output_type": "error",
     "traceback": [
      "\u001b[0;31m---------------------------------------------------------------------------\u001b[0m",
      "\u001b[0;31mNameError\u001b[0m                                 Traceback (most recent call last)",
      "\u001b[1;32m/Users/adjourner/Projects/diffusion_curvature/sparse_matrices_exploration.ipynb Cell 23'\u001b[0m in \u001b[0;36m<module>\u001b[0;34m\u001b[0m\n\u001b[0;32m----> <a href='vscode-notebook-cell:/Users/adjourner/Projects/diffusion_curvature/sparse_matrices_exploration.ipynb#ch0000015?line=0'>1</a>\u001b[0m sP\n",
      "\u001b[0;31mNameError\u001b[0m: name 'sP' is not defined"
     ]
    }
   ],
   "source": [
    "sP"
   ]
  },
  {
   "cell_type": "code",
   "execution_count": null,
   "metadata": {},
   "outputs": [],
   "source": [
    "A8_manual = (sP @ sP)"
   ]
  },
  {
   "cell_type": "code",
   "execution_count": null,
   "metadata": {},
   "outputs": [
    {
     "ename": "NameError",
     "evalue": "name 'A8_manual' is not defined",
     "output_type": "error",
     "traceback": [
      "\u001b[0;31m---------------------------------------------------------------------------\u001b[0m",
      "\u001b[0;31mNameError\u001b[0m                                 Traceback (most recent call last)",
      "\u001b[1;32m/Users/adjourner/Projects/diffusion_curvature/sparse_matrices_exploration.ipynb Cell 18'\u001b[0m in \u001b[0;36m<module>\u001b[0;34m\u001b[0m\n\u001b[0;32m----> <a href='vscode-notebook-cell:/Users/adjourner/Projects/diffusion_curvature/sparse_matrices_exploration.ipynb#ch0000017?line=0'>1</a>\u001b[0m A8_manual\n",
      "\u001b[0;31mNameError\u001b[0m: name 'A8_manual' is not defined"
     ]
    }
   ],
   "source": [
    "A8_manual "
   ]
  },
  {
   "cell_type": "code",
   "execution_count": null,
   "metadata": {},
   "outputs": [
    {
     "ename": "",
     "evalue": "",
     "output_type": "error",
     "traceback": [
      "\u001b[1;31mThe Kernel crashed while executing code in the the current cell or a previous cell. Please review the code in the cell(s) to identify a possible cause of the failure. Click <a href='https://aka.ms/vscodeJupyterKernelCrash'>here</a> for more info. View Jupyter <a href='command:jupyter.viewOutput'>log</a> for further details."
     ]
    },
    {
     "ename": "",
     "evalue": "",
     "output_type": "error",
     "traceback": [
      "\u001b[1;31mCanceled future for execute_request message before replies were done"
     ]
    }
   ],
   "source": [
    "A8_manual = A8_manual @ A8_manual"
   ]
  },
  {
   "cell_type": "markdown",
   "metadata": {},
   "source": [
    "For excessive numbers of points, diffusing between each of them repeatedly ceases to make sense -- hence the appeal of *landmarking*. PHATE uses landmarks to approximate large powers of the diffusion matrix, by (in effect) subsampling to a smaller number of \"landmarks\" and building a diffusion matrix between these.\n",
    "\n",
    "In PHATE, the landmark matrix is powered and used by itself. This could produce a laziness measure of the landmarked points (which works quickly for up to 10,000 points). But how to extend this laziness back to the other points?\n",
    "\n",
    "One obvious solution is to diffuse the laziness of the landmark points down to each of the other points."
   ]
  },
  {
   "cell_type": "markdown",
   "metadata": {},
   "source": []
  }
 ],
 "metadata": {
  "kernelspec": {
   "display_name": "Python 3.10.2 ('graphcurvature')",
   "language": "python",
   "name": "python3"
  }
 },
 "nbformat": 4,
 "nbformat_minor": 2
}
