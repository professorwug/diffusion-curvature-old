{
 "cells": [
  {
   "attachments": {},
   "cell_type": "markdown",
   "metadata": {},
   "source": [
    "# Curvature Density Correlations\n",
    "\n",
    "> An Exploration of the Anisotropic and Other Topics"
   ]
  },
  {
   "attachments": {},
   "cell_type": "markdown",
   "metadata": {},
   "source": [
    "In a previous notebook, we discovered that the measurement performed by diffusion curvature can be approximated as a low pass filter over the local density of the graph. In particular, if you binarize the kernel to a single threshold, positively curved regions have more neighbors within the affinity threshold than negatively curved regions. Thus, just adding up the number of neighbors each point has, and applying a single averaging operation to remove high-frequency variation, provides a measure seemingly as robust as diffusion curvature."
   ]
  },
  {
   "attachments": {},
   "cell_type": "markdown",
   "metadata": {},
   "source": [
    "This raises intriguing theoretical connections in the realm of sampling. If the manifold is absolutely evenly sampled, then the distribution of neighbors alone reveals the (relative!) curvatures.\n",
    "\n",
    "But one cannot depend on the manifold to be evenly sampled. "
   ]
  },
  {
   "cell_type": "code",
   "execution_count": 2,
   "metadata": {},
   "outputs": [
    {
     "name": "stdout",
     "output_type": "stream",
     "text": [
      "hi, Ive been run\n"
     ]
    }
   ],
   "source": [
    "print('hi, Ive been run')"
   ]
  }
 ],
 "metadata": {
  "kernelspec": {
   "display_name": "drdoctor",
   "language": "python",
   "name": "python3"
  },
  "language_info": {
   "codemirror_mode": {
    "name": "ipython",
    "version": 3
   },
   "file_extension": ".py",
   "mimetype": "text/x-python",
   "name": "python",
   "nbconvert_exporter": "python",
   "pygments_lexer": "ipython3",
   "version": "3.9.7"
  },
  "orig_nbformat": 4,
  "vscode": {
   "interpreter": {
    "hash": "5e38c0f56e900428106976d8601c019a8ce283a6f5b3221f15de68e912ed35b1"
   }
  }
 },
 "nbformat": 4,
 "nbformat_minor": 2
}
