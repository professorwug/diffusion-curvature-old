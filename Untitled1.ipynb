{
 "cells": [
  {
   "cell_type": "code",
   "execution_count": null,
   "id": "bfb7db68-eff9-4cce-991d-b3c86efe922b",
   "metadata": {},
   "outputs": [],
   "source": [
    "import diffusion_curvature"
   ]
  },
  {
   "cell_type": "markdown",
   "id": "eb60fca8-f4ff-4ee5-bd60-697911aacd9d",
   "metadata": {},
   "source": [
    "# Inferring Signs from Global Topology"
   ]
  },
  {
   "cell_type": "code",
   "execution_count": null,
   "id": "cddecda8-9ad2-4603-a5ec-bedf232226f3",
   "metadata": {},
   "outputs": [],
   "source": []
  }
 ],
 "metadata": {
  "kernelspec": {
   "display_name": "Python [conda env:diffusion_curvature]",
   "language": "python",
   "name": "conda-env-diffusion_curvature-py"
  },
  "language_info": {
   "codemirror_mode": {
    "name": "ipython",
    "version": 3
   },
   "file_extension": ".py",
   "mimetype": "text/x-python",
   "name": "python",
   "nbconvert_exporter": "python",
   "pygments_lexer": "ipython3",
   "version": "3.10.8"
  }
 },
 "nbformat": 4,
 "nbformat_minor": 5
}
