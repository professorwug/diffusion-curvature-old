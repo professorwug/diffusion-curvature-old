{
 "cells": [
  {
   "cell_type": "code",
   "execution_count": null,
   "metadata": {},
   "outputs": [],
   "source": [
    "from nbdev.showdoc import *\n",
    "import numpy as np\n",
    "from tqdm.notebook import trange, tqdm\n",
    "import matplotlib.pyplot as plt\n",
    "import diffusion_curvature\n",
    "from diffusion_curvature.datasets import *\n",
    "from diffusion_curvature.core import plot_3d, diffusion_matrix, gaussian_kernel\n",
    "\n",
    "# Reload any changes made to external files\n",
    "%load_ext autoreload\n",
    "%autoreload 2"
   ]
  }
 ],
 "metadata": {
  "language_info": {
   "name": "python"
  },
  "orig_nbformat": 4
 },
 "nbformat": 4,
 "nbformat_minor": 2
}
