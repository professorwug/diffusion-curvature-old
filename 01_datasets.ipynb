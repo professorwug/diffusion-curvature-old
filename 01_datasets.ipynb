{
 "cells": [
  {
   "cell_type": "code",
   "execution_count": null,
   "metadata": {},
   "outputs": [],
   "source": [
    "# default_exp datasets"
   ]
  },
  {
   "cell_type": "code",
   "execution_count": null,
   "metadata": {},
   "outputs": [],
   "source": [
    "#export\n",
    "import numpy as np"
   ]
  },
  {
   "cell_type": "markdown",
   "metadata": {},
   "source": [
    "# Torus"
   ]
  },
  {
   "cell_type": "code",
   "execution_count": null,
   "metadata": {},
   "outputs": [],
   "source": [
    "#export\n",
    "def rejection_sample(n, r, R):\n",
    "    # Rejection sampling torus method [Sampling from a torus (Revolutions)](https://blog.revolutionanalytics.com/2014/02/sampling-from-a-torus.html)\n",
    "    xvec = np.random.random(n) * 2 * np.pi\n",
    "    yvec = np.random.random(n) * (1/np.pi)\n",
    "    fx = (1 + (r/R)*np.cos(xvec)) / (2*np.pi)\n",
    "    return xvec[yvec < fx]\n",
    "\n",
    "def torus(n=2000, c=2, a=1, noise=None, seed=None):\n",
    "    \"\"\"\n",
    "    Sample `n` data points on a torus. Modified from [tadasets.shapes — TaDAsets 0.1.0 documentation](https://tadasets.scikit-tda.org/en/latest/_modules/tadasets/shapes.html#torus)\n",
    "    Uses rejection sampling\n",
    "\n",
    "    Parameters\n",
    "    -----------\n",
    "    n : int\n",
    "        Number of data points in shape.\n",
    "    c : float\n",
    "        Distance from center to center of tube.\n",
    "    a : float\n",
    "        Radius of tube.\n",
    "    ambient : int, default=None\n",
    "        Embed the torus into a space with ambient dimension equal to `ambient`. The torus is randomly rotated in this high dimensional space.\n",
    "    seed : int, default=None\n",
    "        Seed for random state.\n",
    "    \"\"\"\n",
    "\n",
    "    assert a <= c, \"That's not a torus\"\n",
    "\n",
    "    np.random.seed(seed)\n",
    "    theta = rejection_sample(n-2, a, c)\n",
    "    phi = np.random.random((len(theta))) * 2.0 * np.pi\n",
    "\n",
    "    data = np.zeros((len(theta), 3))\n",
    "    data[:, 0] = (c + a * np.cos(theta)) * np.cos(phi)\n",
    "    data[:, 1] = (c + a * np.cos(theta)) * np.sin(phi)\n",
    "    data[:, 2] = a * np.sin(theta)\n",
    "\n",
    "    data = np.vstack([[[0,-c-a,0],[0,a,0]],data])\n",
    "\n",
    "    if noise:\n",
    "        data += noise * np.random.randn(*data.shape)\n",
    "\n",
    "    return data"
   ]
  }
 ],
 "metadata": {
  "kernelspec": {
   "display_name": "Python 3.10.2 64-bit ('graphcurvature': conda)",
   "language": "python",
   "name": "python3"
  }
 },
 "nbformat": 4,
 "nbformat_minor": 2
}
