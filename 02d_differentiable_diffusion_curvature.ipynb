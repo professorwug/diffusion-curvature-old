{
 "cells": [
  {
   "cell_type": "raw",
   "metadata": {},
   "source": [
    "---\n",
    "output-file: differentiable_diffusion_curvature.html\n",
    "title: Differentiable Diffusion Curvature\n",
    "\n",
    "---\n",
    "\n"
   ]
  },
  {
   "cell_type": "code",
   "execution_count": 1,
   "metadata": {},
   "outputs": [],
   "source": [
    "#| default_exp differentiable_laziness\n",
    "# from nbdev.showdoc import *\n",
    "import numpy as np\n",
    "%load_ext autoreload\n",
    "%autoreload 2"
   ]
  },
  {
   "cell_type": "code",
   "execution_count": 2,
   "metadata": {},
   "outputs": [
    {
     "ename": "ModuleNotFoundError",
     "evalue": "No module named 'torch'",
     "output_type": "error",
     "traceback": [
      "\u001b[0;31m---------------------------------------------------------------------------\u001b[0m",
      "\u001b[0;31mModuleNotFoundError\u001b[0m                       Traceback (most recent call last)",
      "\u001b[1;32m/Users/adjourner/Projects/diffusion_curvature/02d_differentiable_diffusion_curvature.ipynb Cell 3\u001b[0m in \u001b[0;36m<module>\u001b[0;34m\u001b[0m\n\u001b[1;32m      <a href='vscode-notebook-cell:/Users/adjourner/Projects/diffusion_curvature/02d_differentiable_diffusion_curvature.ipynb#W2sZmlsZQ%3D%3D?line=0'>1</a>\u001b[0m \u001b[39m#| export\u001b[39;00m\n\u001b[0;32m----> <a href='vscode-notebook-cell:/Users/adjourner/Projects/diffusion_curvature/02d_differentiable_diffusion_curvature.ipynb#W2sZmlsZQ%3D%3D?line=1'>2</a>\u001b[0m \u001b[39mimport\u001b[39;00m \u001b[39mtorch\u001b[39;00m\n\u001b[1;32m      <a href='vscode-notebook-cell:/Users/adjourner/Projects/diffusion_curvature/02d_differentiable_diffusion_curvature.ipynb#W2sZmlsZQ%3D%3D?line=2'>3</a>\u001b[0m \u001b[39mfrom\u001b[39;00m \u001b[39mtorch\u001b[39;00m \u001b[39mimport\u001b[39;00m sparse\n\u001b[1;32m      <a href='vscode-notebook-cell:/Users/adjourner/Projects/diffusion_curvature/02d_differentiable_diffusion_curvature.ipynb#W2sZmlsZQ%3D%3D?line=3'>4</a>\u001b[0m \u001b[39mdef\u001b[39;00m \u001b[39mcurvature\u001b[39m(P, diffusion_powers \u001b[39m=\u001b[39m \u001b[39m8\u001b[39m, aperture \u001b[39m=\u001b[39m \u001b[39m20\u001b[39m, smoothing \u001b[39m=\u001b[39m \u001b[39m1\u001b[39m, avg_transition_probabilities \u001b[39m=\u001b[39m \u001b[39mTrue\u001b[39;00m, precomputed_powered_P \u001b[39m=\u001b[39m \u001b[39mNone\u001b[39;00m):\n",
      "\u001b[0;31mModuleNotFoundError\u001b[0m: No module named 'torch'"
     ]
    }
   ],
   "source": [
    "#| export\n",
    "import torch\n",
    "from torch import sparse\n",
    "def curvature(P, diffusion_powers = 8, aperture = 20, smoothing = 1, avg_transition_probabilities = True, precomputed_powered_P = None):\n",
    "  \"\"\"Same as the `curvature` function, but uses pytorch as backend instead of numpy. \n",
    "  Works on both tensors and COO sparse tensors.\n",
    "  \"\"\"\n",
    "  sample_number = 100\n",
    "  row_partitions = torch.empty(sample_number)\n",
    "  for idx, i in enumerate(torch.randint(P.shape[0]), size = (sample_number,)):\n",
    "    row_partitions[idx] = torch.topk(P[i].dense(), aperture, largest=True, sorted = True)[0]\n",
    "  P_threshold = torch.mean(row_partitions)\n",
    "  # Compute powers of P\n",
    "  if precomputed_powered_P is not None:\n",
    "    P_powered = precomputed_powered_P\n",
    "  else:\n",
    "    P_powered = torch.linalg.matrix_power(P, diffusion_powers)\n",
    "  near_neighbors_only = P_powered * P_threshold\n",
    "  if near_neighbors_only.is_sparse:\n",
    "    laziness_aggregate = sparse.sum(near_neighbors_only,dim=[1]).to_dense()\n",
    "  else:\n",
    "    laziness_aggregate = torch.sum(near_neighbors_only, dim=1)\n",
    "  laziness = laziness_aggregate\n",
    "  if smoothing:\n",
    "    average_laziness = P @ laziness[:,None]\n",
    "    average_laziness = average_laziness.squeeze()\n",
    "    laziness = average_laziness\n",
    "  return laziness\n"
   ]
  },
  {
   "cell_type": "markdown",
   "metadata": {},
   "source": [
    "Testing:"
   ]
  },
  {
   "cell_type": "code",
   "execution_count": null,
   "metadata": {},
   "outputs": [
    {
     "ename": "",
     "evalue": "",
     "output_type": "error",
     "traceback": [
      "\u001b[1;31mFailed to start the Kernel. \n",
      "Kernel deeps (Python 3.8.12) is not usable. Check the Jupyter output tab for more information. \n",
      "View Jupyter <a href='command:jupyter.viewOutput'>log</a> for further details."
     ]
    }
   ],
   "source": [
    "from diffusion_curvature.core import DiffusionMatrix"
   ]
  },
  {
   "cell_type": "code",
   "execution_count": null,
   "metadata": {},
   "outputs": [],
   "source": [
    "from diffusion_curvature.datasets import torus\n",
    "from diffusion_curvature.core import DiffusionMatrix, plot_3d\n",
    "X, ks = torus(n=5000)\n",
    "P = DiffusionMatrix(X,kernel_type=\"adaptive\",k=20)"
   ]
  },
  {
   "cell_type": "code",
   "execution_count": null,
   "metadata": {},
   "outputs": [],
   "source": [
    "# turn P into a sparse tensor\n",
    "P = torch.tensor(P).to_sparse()"
   ]
  },
  {
   "cell_type": "code",
   "execution_count": null,
   "metadata": {},
   "outputs": [],
   "source": [
    "# calculate laziness\n",
    "ks = curvature(P, diffusion_powers=8, aperture=20)\n",
    "plot_3d()"
   ]
  }
 ],
 "metadata": {
  "kernelspec": {
   "display_name": "Python 3.10.2 ('graphcurvature')",
   "language": "python",
   "name": "python3"
  },
  "language_info": {
   "codemirror_mode": {
    "name": "ipython",
    "version": 3
   },
   "file_extension": ".py",
   "mimetype": "text/x-python",
   "name": "python",
   "nbconvert_exporter": "python",
   "pygments_lexer": "ipython3",
   "version": "3.10.2"
  },
  "orig_nbformat": 4,
  "vscode": {
   "interpreter": {
    "hash": "5e2687605c29ea9b7b195ac3defcd71e9022ba9079282ec58b01bd34752434b0"
   }
  }
 },
 "nbformat": 4,
 "nbformat_minor": 2
}
