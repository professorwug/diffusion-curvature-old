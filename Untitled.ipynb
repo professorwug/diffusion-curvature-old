{
 "cells": [
  {
   "cell_type": "markdown",
   "id": "0030bc67-4277-4fee-ae26-4a8df6987ba1",
   "metadata": {},
   "source": [
    "# Wasserstein Diffusion Curvature with Manifold Distances"
   ]
  },
  {
   "cell_type": "code",
   "execution_count": null,
   "id": "b9026c0a-673b-4ea0-a9db-9efe6ede5c9b",
   "metadata": {},
   "outputs": [],
   "source": [
    "#|default_exp wasserstein\n",
    "#|include false\n",
    "from fastcore.all import *\n",
    "from diffusion_curvature.core import *\n",
    "from diffusion_curvature.datasets import *"
   ]
  },
  {
   "cell_type": "code",
   "execution_count": null,
   "id": "9bbc986d-b5d0-4c89-b8be-4f1990f019a0",
   "metadata": {},
   "outputs": [],
   "source": []
  }
 ],
 "metadata": {
  "kernelspec": {
   "display_name": "flowartist",
   "language": "python",
   "name": "flowartist"
  },
  "language_info": {
   "codemirror_mode": {
    "name": "ipython",
    "version": 3
   },
   "file_extension": ".py",
   "mimetype": "text/x-python",
   "name": "python",
   "nbconvert_exporter": "python",
   "pygments_lexer": "ipython3",
   "version": "3.10.10"
  }
 },
 "nbformat": 4,
 "nbformat_minor": 5
}
