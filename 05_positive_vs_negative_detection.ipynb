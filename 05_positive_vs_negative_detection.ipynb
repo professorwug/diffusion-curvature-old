{
 "cells": [
  {
   "cell_type": "code",
   "execution_count": null,
   "metadata": {
    "collapsed": true,
    "pycharm": {
     "name": "#%%\n"
    }
   },
   "outputs": [],
   "source": []
  },
  {
   "cell_type": "markdown",
   "source": [
    "# Harnessing Diffusion Laziness for more Detailed information\n",
    "The preceding notebooks demonstrate with reasonable certainty that a non-trivial Relationship exists between the Ricci curvature of the space, locally defined, and the laziness of diffusion occurring from that space. But there are many limitations to this method:\n",
    "1. The laziness only gives an absolute number. In reality, especially in high dimensional data, Curvature will possess several directions of interest.\n",
    "2. The laziness cannot distinguish between low positive and negative curvature. Both register as a number closer to zero than a \"high\" laziness. But there is an important threshold between negative curvature and even a small degree of positive curvature. Can diffusion laziness detect this?"
   ],
   "metadata": {
    "collapsed": false,
    "pycharm": {
     "name": "#%% md\n"
    }
   }
  },
  {
   "cell_type": "code",
   "execution_count": null,
   "outputs": [],
   "source": [],
   "metadata": {
    "collapsed": false,
    "pycharm": {
     "name": "#%%\n"
    }
   }
  }
 ],
 "metadata": {
  "kernelspec": {
   "display_name": "Python 3",
   "language": "python",
   "name": "python3"
  },
  "language_info": {
   "codemirror_mode": {
    "name": "ipython",
    "version": 2
   },
   "file_extension": ".py",
   "mimetype": "text/x-python",
   "name": "python",
   "nbconvert_exporter": "python",
   "pygments_lexer": "ipython2",
   "version": "2.7.6"
  }
 },
 "nbformat": 4,
 "nbformat_minor": 0
}