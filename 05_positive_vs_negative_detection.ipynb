{
 "cells": [
  {
   "cell_type": "code",
   "execution_count": null,
   "metadata": {
    "collapsed": true,
    "pycharm": {
     "name": "#%%\n"
    }
   },
   "outputs": [],
   "source": []
  },
  {
   "cell_type": "markdown",
   "metadata": {
    "collapsed": false,
    "pycharm": {
     "name": "#%% md\n"
    }
   },
   "source": [
    "# Harnessing Diffusion Laziness for more Detailed information\n",
    "The preceding notebooks demonstrate with reasonable certainty that a non-trivial Relationship exists between the Ricci curvature of the space, locally defined, and the laziness of diffusion occurring from that space. But there are many limitations to this method:\n",
    "1. The laziness only gives an absolute number. In reality, especially in high dimensional data, Curvature will possess several directions of interest.\n",
    "2. The laziness cannot distinguish between low positive and negative curvature. Both register as a number closer to zero than a \"high\" laziness. But there is an important threshold between negative curvature and even a small degree of positive curvature. Can diffusion laziness detect this?"
   ]
  },
  {
   "cell_type": "code",
   "execution_count": null,
   "metadata": {
    "collapsed": false,
    "pycharm": {
     "name": "#%%\n"
    }
   },
   "outputs": [],
   "source": []
  }
 ],
 "metadata": {
  "kernelspec": {
   "display_name": "Python 3.9.7 ('drdoctor')",
   "language": "python",
   "name": "python3"
  },
  "language_info": {
   "codemirror_mode": {
    "name": "ipython",
    "version": 2
   },
   "file_extension": ".py",
   "mimetype": "text/x-python",
   "name": "python",
   "nbconvert_exporter": "python",
   "pygments_lexer": "ipython2",
   "version": "3.9.7"
  },
  "vscode": {
   "interpreter": {
    "hash": "5e38c0f56e900428106976d8601c019a8ce283a6f5b3221f15de68e912ed35b1"
   }
  }
 },
 "nbformat": 4,
 "nbformat_minor": 0
}
